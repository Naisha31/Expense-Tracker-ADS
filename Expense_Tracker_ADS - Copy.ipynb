{
  "nbformat": 4,
  "nbformat_minor": 0,
  "metadata": {
    "colab": {
      "provenance": [],
      "authorship_tag": "ABX9TyNT/PWeyv5faiNKE4SzGcOg",
      "include_colab_link": true
    },
    "kernelspec": {
      "name": "python3",
      "display_name": "Python 3"
    },
    "language_info": {
      "name": "python"
    }
  },
  "cells": [
    {
      "cell_type": "markdown",
      "metadata": {
        "id": "view-in-github",
        "colab_type": "text"
      },
      "source": [
        "<a href=\"https://colab.research.google.com/github/Naisha31/Expense-Tracker-ADS/blob/main/Expense_Tracker_ADS.ipynb\" target=\"_parent\"><img src=\"https://colab.research.google.com/assets/colab-badge.svg\" alt=\"Open In Colab\"/></a>"
      ]
    },
    {
      "cell_type": "code",
      "execution_count": 1,
      "metadata": {
        "colab": {
          "base_uri": "https://localhost:8080/"
        },
        "id": "U6_twQJZQgIs",
        "outputId": "76fcc948-f21c-44c2-c352-bef8244e2a93"
      },
      "outputs": [
        {
          "output_type": "stream",
          "name": "stdout",
          "text": [
            "Khushi owes 25 to Naisha\n",
            "Khushi owes 25 to Rohan\n",
            "Khushi owes 20 to Sam\n",
            "Riham owes 30 to Sam\n"
          ]
        }
      ],
      "source": [
        "class Expense_Tracker:\n",
        "    def __init__(self):\n",
        "        self.graph = {}\n",
        "\n",
        "    def add_transaction(self, lender, borrower, amount):\n",
        "        if lender not in self.graph:\n",
        "            self.graph[lender] = {}\n",
        "        if borrower not in self.graph:\n",
        "            self.graph[borrower] = {}\n",
        "\n",
        "        if borrower in self.graph[lender]:\n",
        "            self.graph[lender][borrower] += amount\n",
        "        else:\n",
        "            self.graph[lender][borrower] = amount\n",
        "\n",
        "        if lender in self.graph[borrower]:\n",
        "            self.graph[borrower][lender] -= amount\n",
        "        else:\n",
        "            self.graph[borrower][lender] = -amount\n",
        "\n",
        "    def simplify(self):\n",
        "        net_amounts = {}\n",
        "\n",
        "        for person in self.graph:\n",
        "            net_amount = 0\n",
        "            for other_person in self.graph[person]:\n",
        "                net_amount += self.graph[person][other_person]\n",
        "            net_amounts[person] = net_amount\n",
        "\n",
        "        for person, amount in net_amounts.items():\n",
        "            if amount < 0:\n",
        "                for other_person, other_amount in net_amounts.items():\n",
        "                    if other_amount > 0:\n",
        "                        settle_amount = min(-amount, other_amount)\n",
        "                        print(f\"{person} owes {settle_amount} to {other_person}\")\n",
        "                        amount += settle_amount\n",
        "                        net_amounts[other_person] -= settle_amount\n",
        "                        if amount == 0:\n",
        "                            break\n",
        "\n",
        "split = Expense_Tracker()\n",
        "\n",
        "split.add_transaction(\"Naisha\", \"Khushi\", 50)\n",
        "split.add_transaction(\"Khushi\", \"Rohan\", 20)\n",
        "split.add_transaction(\"Rohan\", \"Naisha\", 30)\n",
        "split.add_transaction(\"Rohan\", \"Khushi\", 10)\n",
        "split.add_transaction(\"Naisha\", \"Riham\", 40)\n",
        "split.add_transaction(\"Riham\", \"Khushi\", 25)\n",
        "split.add_transaction(\"Rohan\", \"Riham\", 15)\n",
        "split.add_transaction(\"Sam\", \"Naisha\", 35)\n",
        "split.add_transaction(\"Sam\", \"Khushi\", 20)\n",
        "split.add_transaction(\"Sam\", \"Rohan\", 10)\n",
        "split.add_transaction(\"Khushi\", \"Sam\", 15)\n",
        "\n",
        "split.simplify()"
      ]
    }
  ]
}